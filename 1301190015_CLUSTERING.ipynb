{
 "cells": [
  {
   "cell_type": "markdown",
   "metadata": {
    "id": "U9SntVUBFaFT"
   },
   "source": [
    "# **IMPORT LIBRARY**"
   ]
  },
  {
   "cell_type": "code",
   "execution_count": 15,
   "metadata": {
    "id": "nB7VUK_8EdM4"
   },
   "outputs": [],
   "source": [
    "import pandas as pd\n",
    "import numpy as np\n",
    "import seaborn as sns\n",
    "import matplotlib.pyplot as plt\n",
    "import copy\n",
    "from sklearn.cluster import KMeans\n",
    "from scipy.spatial.distance import cdist"
   ]
  },
  {
   "cell_type": "markdown",
   "metadata": {
    "id": "9hcz7lDFFsGX"
   },
   "source": [
    "# **PEMROSESAN DATA**"
   ]
  },
  {
   "cell_type": "markdown",
   "metadata": {
    "id": "mDr1lKT9I7HL"
   },
   "source": [
    "## **Import Data Train**\n",
    "\n",
    "\n"
   ]
  },
  {
   "cell_type": "code",
   "execution_count": 16,
   "metadata": {
    "colab": {
     "base_uri": "https://localhost:8080/",
     "height": 439
    },
    "id": "i9MQWYxQFrV8",
    "outputId": "1c926a64-ec07-4f85-8f0b-d7111e596a9e"
   },
   "outputs": [
    {
     "data": {
      "text/html": [
       "<div>\n",
       "<style scoped>\n",
       "    .dataframe tbody tr th:only-of-type {\n",
       "        vertical-align: middle;\n",
       "    }\n",
       "\n",
       "    .dataframe tbody tr th {\n",
       "        vertical-align: top;\n",
       "    }\n",
       "\n",
       "    .dataframe thead th {\n",
       "        text-align: right;\n",
       "    }\n",
       "</style>\n",
       "<table border=\"1\" class=\"dataframe\">\n",
       "  <thead>\n",
       "    <tr style=\"text-align: right;\">\n",
       "      <th></th>\n",
       "      <th>id</th>\n",
       "      <th>Jenis_Kelamin</th>\n",
       "      <th>Umur</th>\n",
       "      <th>SIM</th>\n",
       "      <th>Kode_Daerah</th>\n",
       "      <th>Sudah_Asuransi</th>\n",
       "      <th>Umur_Kendaraan</th>\n",
       "      <th>Kendaraan_Rusak</th>\n",
       "      <th>Premi</th>\n",
       "      <th>Kanal_Penjualan</th>\n",
       "      <th>Lama_Berlangganan</th>\n",
       "      <th>Tertarik</th>\n",
       "    </tr>\n",
       "  </thead>\n",
       "  <tbody>\n",
       "    <tr>\n",
       "      <td>0</td>\n",
       "      <td>1</td>\n",
       "      <td>Wanita</td>\n",
       "      <td>30.0</td>\n",
       "      <td>1.0</td>\n",
       "      <td>33.0</td>\n",
       "      <td>1.0</td>\n",
       "      <td>&lt; 1 Tahun</td>\n",
       "      <td>Tidak</td>\n",
       "      <td>28029.0</td>\n",
       "      <td>152.0</td>\n",
       "      <td>97.0</td>\n",
       "      <td>0</td>\n",
       "    </tr>\n",
       "    <tr>\n",
       "      <td>1</td>\n",
       "      <td>2</td>\n",
       "      <td>Pria</td>\n",
       "      <td>48.0</td>\n",
       "      <td>1.0</td>\n",
       "      <td>39.0</td>\n",
       "      <td>0.0</td>\n",
       "      <td>&gt; 2 Tahun</td>\n",
       "      <td>Pernah</td>\n",
       "      <td>25800.0</td>\n",
       "      <td>29.0</td>\n",
       "      <td>158.0</td>\n",
       "      <td>0</td>\n",
       "    </tr>\n",
       "    <tr>\n",
       "      <td>2</td>\n",
       "      <td>3</td>\n",
       "      <td>NaN</td>\n",
       "      <td>21.0</td>\n",
       "      <td>1.0</td>\n",
       "      <td>46.0</td>\n",
       "      <td>1.0</td>\n",
       "      <td>&lt; 1 Tahun</td>\n",
       "      <td>Tidak</td>\n",
       "      <td>32733.0</td>\n",
       "      <td>160.0</td>\n",
       "      <td>119.0</td>\n",
       "      <td>0</td>\n",
       "    </tr>\n",
       "    <tr>\n",
       "      <td>3</td>\n",
       "      <td>4</td>\n",
       "      <td>Wanita</td>\n",
       "      <td>58.0</td>\n",
       "      <td>1.0</td>\n",
       "      <td>48.0</td>\n",
       "      <td>0.0</td>\n",
       "      <td>1-2 Tahun</td>\n",
       "      <td>Tidak</td>\n",
       "      <td>2630.0</td>\n",
       "      <td>124.0</td>\n",
       "      <td>63.0</td>\n",
       "      <td>0</td>\n",
       "    </tr>\n",
       "    <tr>\n",
       "      <td>4</td>\n",
       "      <td>5</td>\n",
       "      <td>Pria</td>\n",
       "      <td>50.0</td>\n",
       "      <td>1.0</td>\n",
       "      <td>35.0</td>\n",
       "      <td>0.0</td>\n",
       "      <td>&gt; 2 Tahun</td>\n",
       "      <td>NaN</td>\n",
       "      <td>34857.0</td>\n",
       "      <td>88.0</td>\n",
       "      <td>194.0</td>\n",
       "      <td>0</td>\n",
       "    </tr>\n",
       "    <tr>\n",
       "      <td>...</td>\n",
       "      <td>...</td>\n",
       "      <td>...</td>\n",
       "      <td>...</td>\n",
       "      <td>...</td>\n",
       "      <td>...</td>\n",
       "      <td>...</td>\n",
       "      <td>...</td>\n",
       "      <td>...</td>\n",
       "      <td>...</td>\n",
       "      <td>...</td>\n",
       "      <td>...</td>\n",
       "      <td>...</td>\n",
       "    </tr>\n",
       "    <tr>\n",
       "      <td>285826</td>\n",
       "      <td>285827</td>\n",
       "      <td>Wanita</td>\n",
       "      <td>23.0</td>\n",
       "      <td>1.0</td>\n",
       "      <td>4.0</td>\n",
       "      <td>1.0</td>\n",
       "      <td>&lt; 1 Tahun</td>\n",
       "      <td>Tidak</td>\n",
       "      <td>25988.0</td>\n",
       "      <td>152.0</td>\n",
       "      <td>217.0</td>\n",
       "      <td>0</td>\n",
       "    </tr>\n",
       "    <tr>\n",
       "      <td>285827</td>\n",
       "      <td>285828</td>\n",
       "      <td>Wanita</td>\n",
       "      <td>21.0</td>\n",
       "      <td>1.0</td>\n",
       "      <td>46.0</td>\n",
       "      <td>1.0</td>\n",
       "      <td>&lt; 1 Tahun</td>\n",
       "      <td>Tidak</td>\n",
       "      <td>44686.0</td>\n",
       "      <td>152.0</td>\n",
       "      <td>50.0</td>\n",
       "      <td>0</td>\n",
       "    </tr>\n",
       "    <tr>\n",
       "      <td>285828</td>\n",
       "      <td>285829</td>\n",
       "      <td>Wanita</td>\n",
       "      <td>23.0</td>\n",
       "      <td>1.0</td>\n",
       "      <td>50.0</td>\n",
       "      <td>1.0</td>\n",
       "      <td>&lt; 1 Tahun</td>\n",
       "      <td>Tidak</td>\n",
       "      <td>49751.0</td>\n",
       "      <td>152.0</td>\n",
       "      <td>226.0</td>\n",
       "      <td>0</td>\n",
       "    </tr>\n",
       "    <tr>\n",
       "      <td>285829</td>\n",
       "      <td>285830</td>\n",
       "      <td>Pria</td>\n",
       "      <td>68.0</td>\n",
       "      <td>1.0</td>\n",
       "      <td>7.0</td>\n",
       "      <td>1.0</td>\n",
       "      <td>1-2 Tahun</td>\n",
       "      <td>Tidak</td>\n",
       "      <td>30503.0</td>\n",
       "      <td>124.0</td>\n",
       "      <td>270.0</td>\n",
       "      <td>0</td>\n",
       "    </tr>\n",
       "    <tr>\n",
       "      <td>285830</td>\n",
       "      <td>285831</td>\n",
       "      <td>Pria</td>\n",
       "      <td>45.0</td>\n",
       "      <td>1.0</td>\n",
       "      <td>28.0</td>\n",
       "      <td>0.0</td>\n",
       "      <td>1-2 Tahun</td>\n",
       "      <td>Pernah</td>\n",
       "      <td>36480.0</td>\n",
       "      <td>26.0</td>\n",
       "      <td>44.0</td>\n",
       "      <td>0</td>\n",
       "    </tr>\n",
       "  </tbody>\n",
       "</table>\n",
       "<p>285831 rows × 12 columns</p>\n",
       "</div>"
      ],
      "text/plain": [
       "            id Jenis_Kelamin  Umur  SIM  Kode_Daerah  Sudah_Asuransi  \\\n",
       "0            1        Wanita  30.0  1.0         33.0             1.0   \n",
       "1            2          Pria  48.0  1.0         39.0             0.0   \n",
       "2            3           NaN  21.0  1.0         46.0             1.0   \n",
       "3            4        Wanita  58.0  1.0         48.0             0.0   \n",
       "4            5          Pria  50.0  1.0         35.0             0.0   \n",
       "...        ...           ...   ...  ...          ...             ...   \n",
       "285826  285827        Wanita  23.0  1.0          4.0             1.0   \n",
       "285827  285828        Wanita  21.0  1.0         46.0             1.0   \n",
       "285828  285829        Wanita  23.0  1.0         50.0             1.0   \n",
       "285829  285830          Pria  68.0  1.0          7.0             1.0   \n",
       "285830  285831          Pria  45.0  1.0         28.0             0.0   \n",
       "\n",
       "       Umur_Kendaraan Kendaraan_Rusak    Premi  Kanal_Penjualan  \\\n",
       "0           < 1 Tahun           Tidak  28029.0            152.0   \n",
       "1           > 2 Tahun          Pernah  25800.0             29.0   \n",
       "2           < 1 Tahun           Tidak  32733.0            160.0   \n",
       "3           1-2 Tahun           Tidak   2630.0            124.0   \n",
       "4           > 2 Tahun             NaN  34857.0             88.0   \n",
       "...               ...             ...      ...              ...   \n",
       "285826      < 1 Tahun           Tidak  25988.0            152.0   \n",
       "285827      < 1 Tahun           Tidak  44686.0            152.0   \n",
       "285828      < 1 Tahun           Tidak  49751.0            152.0   \n",
       "285829      1-2 Tahun           Tidak  30503.0            124.0   \n",
       "285830      1-2 Tahun          Pernah  36480.0             26.0   \n",
       "\n",
       "        Lama_Berlangganan  Tertarik  \n",
       "0                    97.0         0  \n",
       "1                   158.0         0  \n",
       "2                   119.0         0  \n",
       "3                    63.0         0  \n",
       "4                   194.0         0  \n",
       "...                   ...       ...  \n",
       "285826              217.0         0  \n",
       "285827               50.0         0  \n",
       "285828              226.0         0  \n",
       "285829              270.0         0  \n",
       "285830               44.0         0  \n",
       "\n",
       "[285831 rows x 12 columns]"
      ]
     },
     "execution_count": 16,
     "metadata": {},
     "output_type": "execute_result"
    }
   ],
   "source": [
    "df = pd.read_excel('kendaraan_train.xlsx')\n",
    "df"
   ]
  },
  {
   "cell_type": "markdown",
   "metadata": {
    "id": "wUg9oHncz1Fn"
   },
   "source": [
    "## **Melihat Ringkasan Data**"
   ]
  },
  {
   "cell_type": "code",
   "execution_count": 17,
   "metadata": {
    "colab": {
     "base_uri": "https://localhost:8080/"
    },
    "id": "CCfrCKHeJVYZ",
    "outputId": "02748a4c-07c9-41e8-a77f-4cc39054fed4"
   },
   "outputs": [
    {
     "name": "stdout",
     "output_type": "stream",
     "text": [
      "<class 'pandas.core.frame.DataFrame'>\n",
      "RangeIndex: 285831 entries, 0 to 285830\n",
      "Data columns (total 12 columns):\n",
      "id                   285831 non-null int64\n",
      "Jenis_Kelamin        271391 non-null object\n",
      "Umur                 271617 non-null float64\n",
      "SIM                  271427 non-null float64\n",
      "Kode_Daerah          271525 non-null float64\n",
      "Sudah_Asuransi       271602 non-null float64\n",
      "Umur_Kendaraan       271556 non-null object\n",
      "Kendaraan_Rusak      271643 non-null object\n",
      "Premi                271262 non-null float64\n",
      "Kanal_Penjualan      271532 non-null float64\n",
      "Lama_Berlangganan    271839 non-null float64\n",
      "Tertarik             285831 non-null int64\n",
      "dtypes: float64(7), int64(2), object(3)\n",
      "memory usage: 26.2+ MB\n"
     ]
    }
   ],
   "source": [
    "df.info()"
   ]
  },
  {
   "cell_type": "markdown",
   "metadata": {
    "id": "EAcHDSqTt7vB"
   },
   "source": [
    "## **Menghapus Kolom ID dan Tertarik**"
   ]
  },
  {
   "cell_type": "code",
   "execution_count": 18,
   "metadata": {
    "colab": {
     "base_uri": "https://localhost:8080/",
     "height": 0
    },
    "id": "hR0rTz43uDWZ",
    "outputId": "b521a601-d90a-45f1-8986-1d987439693b"
   },
   "outputs": [
    {
     "data": {
      "text/html": [
       "<div>\n",
       "<style scoped>\n",
       "    .dataframe tbody tr th:only-of-type {\n",
       "        vertical-align: middle;\n",
       "    }\n",
       "\n",
       "    .dataframe tbody tr th {\n",
       "        vertical-align: top;\n",
       "    }\n",
       "\n",
       "    .dataframe thead th {\n",
       "        text-align: right;\n",
       "    }\n",
       "</style>\n",
       "<table border=\"1\" class=\"dataframe\">\n",
       "  <thead>\n",
       "    <tr style=\"text-align: right;\">\n",
       "      <th></th>\n",
       "      <th>Jenis_Kelamin</th>\n",
       "      <th>Umur</th>\n",
       "      <th>SIM</th>\n",
       "      <th>Kode_Daerah</th>\n",
       "      <th>Sudah_Asuransi</th>\n",
       "      <th>Umur_Kendaraan</th>\n",
       "      <th>Kendaraan_Rusak</th>\n",
       "      <th>Premi</th>\n",
       "      <th>Kanal_Penjualan</th>\n",
       "      <th>Lama_Berlangganan</th>\n",
       "    </tr>\n",
       "  </thead>\n",
       "  <tbody>\n",
       "    <tr>\n",
       "      <td>0</td>\n",
       "      <td>Wanita</td>\n",
       "      <td>30.0</td>\n",
       "      <td>1.0</td>\n",
       "      <td>33.0</td>\n",
       "      <td>1.0</td>\n",
       "      <td>&lt; 1 Tahun</td>\n",
       "      <td>Tidak</td>\n",
       "      <td>28029.0</td>\n",
       "      <td>152.0</td>\n",
       "      <td>97.0</td>\n",
       "    </tr>\n",
       "    <tr>\n",
       "      <td>1</td>\n",
       "      <td>Pria</td>\n",
       "      <td>48.0</td>\n",
       "      <td>1.0</td>\n",
       "      <td>39.0</td>\n",
       "      <td>0.0</td>\n",
       "      <td>&gt; 2 Tahun</td>\n",
       "      <td>Pernah</td>\n",
       "      <td>25800.0</td>\n",
       "      <td>29.0</td>\n",
       "      <td>158.0</td>\n",
       "    </tr>\n",
       "    <tr>\n",
       "      <td>2</td>\n",
       "      <td>NaN</td>\n",
       "      <td>21.0</td>\n",
       "      <td>1.0</td>\n",
       "      <td>46.0</td>\n",
       "      <td>1.0</td>\n",
       "      <td>&lt; 1 Tahun</td>\n",
       "      <td>Tidak</td>\n",
       "      <td>32733.0</td>\n",
       "      <td>160.0</td>\n",
       "      <td>119.0</td>\n",
       "    </tr>\n",
       "    <tr>\n",
       "      <td>3</td>\n",
       "      <td>Wanita</td>\n",
       "      <td>58.0</td>\n",
       "      <td>1.0</td>\n",
       "      <td>48.0</td>\n",
       "      <td>0.0</td>\n",
       "      <td>1-2 Tahun</td>\n",
       "      <td>Tidak</td>\n",
       "      <td>2630.0</td>\n",
       "      <td>124.0</td>\n",
       "      <td>63.0</td>\n",
       "    </tr>\n",
       "    <tr>\n",
       "      <td>4</td>\n",
       "      <td>Pria</td>\n",
       "      <td>50.0</td>\n",
       "      <td>1.0</td>\n",
       "      <td>35.0</td>\n",
       "      <td>0.0</td>\n",
       "      <td>&gt; 2 Tahun</td>\n",
       "      <td>NaN</td>\n",
       "      <td>34857.0</td>\n",
       "      <td>88.0</td>\n",
       "      <td>194.0</td>\n",
       "    </tr>\n",
       "    <tr>\n",
       "      <td>...</td>\n",
       "      <td>...</td>\n",
       "      <td>...</td>\n",
       "      <td>...</td>\n",
       "      <td>...</td>\n",
       "      <td>...</td>\n",
       "      <td>...</td>\n",
       "      <td>...</td>\n",
       "      <td>...</td>\n",
       "      <td>...</td>\n",
       "      <td>...</td>\n",
       "    </tr>\n",
       "    <tr>\n",
       "      <td>285826</td>\n",
       "      <td>Wanita</td>\n",
       "      <td>23.0</td>\n",
       "      <td>1.0</td>\n",
       "      <td>4.0</td>\n",
       "      <td>1.0</td>\n",
       "      <td>&lt; 1 Tahun</td>\n",
       "      <td>Tidak</td>\n",
       "      <td>25988.0</td>\n",
       "      <td>152.0</td>\n",
       "      <td>217.0</td>\n",
       "    </tr>\n",
       "    <tr>\n",
       "      <td>285827</td>\n",
       "      <td>Wanita</td>\n",
       "      <td>21.0</td>\n",
       "      <td>1.0</td>\n",
       "      <td>46.0</td>\n",
       "      <td>1.0</td>\n",
       "      <td>&lt; 1 Tahun</td>\n",
       "      <td>Tidak</td>\n",
       "      <td>44686.0</td>\n",
       "      <td>152.0</td>\n",
       "      <td>50.0</td>\n",
       "    </tr>\n",
       "    <tr>\n",
       "      <td>285828</td>\n",
       "      <td>Wanita</td>\n",
       "      <td>23.0</td>\n",
       "      <td>1.0</td>\n",
       "      <td>50.0</td>\n",
       "      <td>1.0</td>\n",
       "      <td>&lt; 1 Tahun</td>\n",
       "      <td>Tidak</td>\n",
       "      <td>49751.0</td>\n",
       "      <td>152.0</td>\n",
       "      <td>226.0</td>\n",
       "    </tr>\n",
       "    <tr>\n",
       "      <td>285829</td>\n",
       "      <td>Pria</td>\n",
       "      <td>68.0</td>\n",
       "      <td>1.0</td>\n",
       "      <td>7.0</td>\n",
       "      <td>1.0</td>\n",
       "      <td>1-2 Tahun</td>\n",
       "      <td>Tidak</td>\n",
       "      <td>30503.0</td>\n",
       "      <td>124.0</td>\n",
       "      <td>270.0</td>\n",
       "    </tr>\n",
       "    <tr>\n",
       "      <td>285830</td>\n",
       "      <td>Pria</td>\n",
       "      <td>45.0</td>\n",
       "      <td>1.0</td>\n",
       "      <td>28.0</td>\n",
       "      <td>0.0</td>\n",
       "      <td>1-2 Tahun</td>\n",
       "      <td>Pernah</td>\n",
       "      <td>36480.0</td>\n",
       "      <td>26.0</td>\n",
       "      <td>44.0</td>\n",
       "    </tr>\n",
       "  </tbody>\n",
       "</table>\n",
       "<p>285831 rows × 10 columns</p>\n",
       "</div>"
      ],
      "text/plain": [
       "       Jenis_Kelamin  Umur  SIM  Kode_Daerah  Sudah_Asuransi Umur_Kendaraan  \\\n",
       "0             Wanita  30.0  1.0         33.0             1.0      < 1 Tahun   \n",
       "1               Pria  48.0  1.0         39.0             0.0      > 2 Tahun   \n",
       "2                NaN  21.0  1.0         46.0             1.0      < 1 Tahun   \n",
       "3             Wanita  58.0  1.0         48.0             0.0      1-2 Tahun   \n",
       "4               Pria  50.0  1.0         35.0             0.0      > 2 Tahun   \n",
       "...              ...   ...  ...          ...             ...            ...   \n",
       "285826        Wanita  23.0  1.0          4.0             1.0      < 1 Tahun   \n",
       "285827        Wanita  21.0  1.0         46.0             1.0      < 1 Tahun   \n",
       "285828        Wanita  23.0  1.0         50.0             1.0      < 1 Tahun   \n",
       "285829          Pria  68.0  1.0          7.0             1.0      1-2 Tahun   \n",
       "285830          Pria  45.0  1.0         28.0             0.0      1-2 Tahun   \n",
       "\n",
       "       Kendaraan_Rusak    Premi  Kanal_Penjualan  Lama_Berlangganan  \n",
       "0                Tidak  28029.0            152.0               97.0  \n",
       "1               Pernah  25800.0             29.0              158.0  \n",
       "2                Tidak  32733.0            160.0              119.0  \n",
       "3                Tidak   2630.0            124.0               63.0  \n",
       "4                  NaN  34857.0             88.0              194.0  \n",
       "...                ...      ...              ...                ...  \n",
       "285826           Tidak  25988.0            152.0              217.0  \n",
       "285827           Tidak  44686.0            152.0               50.0  \n",
       "285828           Tidak  49751.0            152.0              226.0  \n",
       "285829           Tidak  30503.0            124.0              270.0  \n",
       "285830          Pernah  36480.0             26.0               44.0  \n",
       "\n",
       "[285831 rows x 10 columns]"
      ]
     },
     "execution_count": 18,
     "metadata": {},
     "output_type": "execute_result"
    }
   ],
   "source": [
    "df = df.drop(['id','Tertarik'],1)\n",
    "df"
   ]
  },
  {
   "cell_type": "markdown",
   "metadata": {
    "id": "el_lA-wxz44f"
   },
   "source": [
    "## **Mengubah Cetgorical Menjadi Numerik**\n",
    "\n",
    "1.   Kolom Jenis_Kelamin\n",
    "> *   0: 'Wanita'\n",
    "> *   1: 'Pria'\n",
    "2.   Kolom Umur_Kendaraan\n",
    "> *   .< 1 Tahun: 0\n",
    "> *   .1-2 Tahun: 1\n",
    "> *   .> 2 Tahun: 2\n",
    "3.   Kolom Kendaraan_Rusak\n",
    "> *   Tidak : 0\n",
    "> *   Pernah: 1\n",
    "\n",
    "\n",
    "\n"
   ]
  },
  {
   "cell_type": "code",
   "execution_count": 19,
   "metadata": {
    "id": "8v3b36cUx16f"
   },
   "outputs": [],
   "source": [
    "df = df.replace({\"Jenis_Kelamin\": {'Wanita':0, 'Pria':1}}) \n",
    "df = df.replace({\"Umur_Kendaraan\": {'< 1 Tahun':0, '1-2 Tahun':1, '> 2 Tahun':2}}) \n",
    "df = df.replace({\"Kendaraan_Rusak\": {'Tidak':0, 'Pernah':1}})"
   ]
  },
  {
   "cell_type": "code",
   "execution_count": 20,
   "metadata": {
    "colab": {
     "base_uri": "https://localhost:8080/"
    },
    "id": "5KYvxH4s0jtY",
    "outputId": "b7b438a4-9907-428a-b553-de5e1271bb2c"
   },
   "outputs": [
    {
     "name": "stdout",
     "output_type": "stream",
     "text": [
      "<class 'pandas.core.frame.DataFrame'>\n",
      "RangeIndex: 285831 entries, 0 to 285830\n",
      "Data columns (total 10 columns):\n",
      "Jenis_Kelamin        271391 non-null float64\n",
      "Umur                 271617 non-null float64\n",
      "SIM                  271427 non-null float64\n",
      "Kode_Daerah          271525 non-null float64\n",
      "Sudah_Asuransi       271602 non-null float64\n",
      "Umur_Kendaraan       271556 non-null float64\n",
      "Kendaraan_Rusak      271643 non-null float64\n",
      "Premi                271262 non-null float64\n",
      "Kanal_Penjualan      271532 non-null float64\n",
      "Lama_Berlangganan    271839 non-null float64\n",
      "dtypes: float64(10)\n",
      "memory usage: 21.8 MB\n"
     ]
    }
   ],
   "source": [
    "df.info()"
   ]
  },
  {
   "cell_type": "markdown",
   "metadata": {
    "id": "q954-yH3udLy"
   },
   "source": [
    "## **MISSING VALUES**"
   ]
  },
  {
   "cell_type": "markdown",
   "metadata": {
    "id": "DF87NroA3l04"
   },
   "source": [
    "### **Cek Apakah Ada NaN Values pada Masing2 Kolom**"
   ]
  },
  {
   "cell_type": "code",
   "execution_count": 21,
   "metadata": {
    "colab": {
     "base_uri": "https://localhost:8080/"
    },
    "id": "I3HWa5CCK7Gj",
    "outputId": "b5fe7e38-a72e-4bf0-9269-be822a9fdc13"
   },
   "outputs": [
    {
     "name": "stdout",
     "output_type": "stream",
     "text": [
      "Apakah Terdapat Data yang Kosong?  True\n"
     ]
    }
   ],
   "source": [
    "print(\"Apakah Terdapat Data yang Kosong? \",df.isnull().values.any())"
   ]
  },
  {
   "cell_type": "markdown",
   "metadata": {
    "id": "gPGgiIGkvzlq"
   },
   "source": [
    "### **Cek Banyaknya NaN Values pada Masing2 Kolom**"
   ]
  },
  {
   "cell_type": "code",
   "execution_count": 22,
   "metadata": {
    "colab": {
     "base_uri": "https://localhost:8080/"
    },
    "id": "YSpt_kOkuyZC",
    "outputId": "773621cf-f2b1-4efd-a201-cbcfd62f22ae"
   },
   "outputs": [
    {
     "data": {
      "text/plain": [
       "Jenis_Kelamin        14440\n",
       "Umur                 14214\n",
       "SIM                  14404\n",
       "Kode_Daerah          14306\n",
       "Sudah_Asuransi       14229\n",
       "Umur_Kendaraan       14275\n",
       "Kendaraan_Rusak      14188\n",
       "Premi                14569\n",
       "Kanal_Penjualan      14299\n",
       "Lama_Berlangganan    13992\n",
       "dtype: int64"
      ]
     },
     "execution_count": 22,
     "metadata": {},
     "output_type": "execute_result"
    }
   ],
   "source": [
    "df.isna().sum()"
   ]
  },
  {
   "cell_type": "markdown",
   "metadata": {
    "id": "ikJWayg23vM2"
   },
   "source": [
    "### **Mengisi Missing Values (NaN)**\n",
    "\n",
    "1.   Diisi dengan Modus:\n",
    "> * Jenis_Kelamin\n",
    "> * SIM\n",
    "> * Sudah_Asuransi\n",
    "> * Umur_Kendaraan\n",
    "> * Kendaraan_Rusak\n",
    "> * Kode_Daerah\n",
    "2.   Diisi dengan Mean :\n",
    "> * Umur\n",
    "> * Premi\n",
    "> * Kanal_Penjualan\n",
    "> * Lama_Berlangganan\n",
    "\n"
   ]
  },
  {
   "cell_type": "code",
   "execution_count": 23,
   "metadata": {
    "id": "FgxEB7sC31hW"
   },
   "outputs": [],
   "source": [
    "#Data Diskrit\n",
    "df['Jenis_Kelamin'].replace(np.nan, df['Jenis_Kelamin'].mode()[0], inplace=True)\n",
    "df['Jenis_Kelamin'] = df['Jenis_Kelamin'].astype('float')\n",
    "\n",
    "df['SIM'].replace(np.nan, df['SIM'].mode()[0], inplace=True)\n",
    "df['SIM'] = df['SIM'].astype('float')\n",
    "\n",
    "df['Sudah_Asuransi'].replace(np.nan, df['Sudah_Asuransi'].mode()[0], inplace=True)\n",
    "df['Sudah_Asuransi'] = df['Sudah_Asuransi'].astype('float')\n",
    "\n",
    "df['Umur_Kendaraan'].replace(np.nan, df['Umur_Kendaraan'].mode()[0], inplace=True)\n",
    "df['Umur_Kendaraan'] = df['Umur_Kendaraan'].astype('float')\n",
    "\n",
    "df['Kendaraan_Rusak'].replace(np.nan, df['Kendaraan_Rusak'].mode()[0], inplace=True)\n",
    "df['Kendaraan_Rusak'] = df['Kendaraan_Rusak'].astype('float')\n",
    "\n",
    "df['Kode_Daerah'].replace(np.nan, df['Kode_Daerah'].mode()[0], inplace=True)\n",
    "\n",
    "df['Umur'].replace(np.nan, df['Umur'].mode()[0], inplace=True)\n",
    "\n",
    "#Data Continu\n",
    "df['Premi'].replace(np.nan, df['Premi'].mean(), inplace=True)\n",
    "df['Kanal_Penjualan'].replace(np.nan, df['Kanal_Penjualan'].mean(), inplace=True)\n",
    "df['Lama_Berlangganan'].replace(np.nan, df['Lama_Berlangganan'].mean(), inplace=True)"
   ]
  },
  {
   "cell_type": "code",
   "execution_count": 24,
   "metadata": {
    "colab": {
     "base_uri": "https://localhost:8080/"
    },
    "id": "Pb0CaLEF51Dy",
    "outputId": "da449e3c-2501-4419-d0b1-241466a990d9"
   },
   "outputs": [
    {
     "name": "stdout",
     "output_type": "stream",
     "text": [
      "Apakah Terdapat Data yang Kosong?  False\n"
     ]
    }
   ],
   "source": [
    "#CEK KEMBALI APAKAH MASIH ADA DATA KOSONG\n",
    "print(\"Apakah Terdapat Data yang Kosong? \",df.isnull().values.any())"
   ]
  },
  {
   "cell_type": "code",
   "execution_count": 25,
   "metadata": {
    "colab": {
     "base_uri": "https://localhost:8080/"
    },
    "id": "II3vEs9t9H0V",
    "outputId": "0c5aecbf-bd90-4375-c3ed-07db71626cf4"
   },
   "outputs": [
    {
     "name": "stdout",
     "output_type": "stream",
     "text": [
      "<class 'pandas.core.frame.DataFrame'>\n",
      "RangeIndex: 285831 entries, 0 to 285830\n",
      "Data columns (total 10 columns):\n",
      "Jenis_Kelamin        285831 non-null float64\n",
      "Umur                 285831 non-null float64\n",
      "SIM                  285831 non-null float64\n",
      "Kode_Daerah          285831 non-null float64\n",
      "Sudah_Asuransi       285831 non-null float64\n",
      "Umur_Kendaraan       285831 non-null float64\n",
      "Kendaraan_Rusak      285831 non-null float64\n",
      "Premi                285831 non-null float64\n",
      "Kanal_Penjualan      285831 non-null float64\n",
      "Lama_Berlangganan    285831 non-null float64\n",
      "dtypes: float64(10)\n",
      "memory usage: 21.8 MB\n"
     ]
    }
   ],
   "source": [
    "df.info()"
   ]
  },
  {
   "cell_type": "code",
   "execution_count": 26,
   "metadata": {
    "colab": {
     "base_uri": "https://localhost:8080/",
     "height": 0
    },
    "id": "IMFyYQGN_PIR",
    "outputId": "7e1da580-2cd8-4ff8-d06b-3924300742ee"
   },
   "outputs": [
    {
     "data": {
      "text/html": [
       "<div>\n",
       "<style scoped>\n",
       "    .dataframe tbody tr th:only-of-type {\n",
       "        vertical-align: middle;\n",
       "    }\n",
       "\n",
       "    .dataframe tbody tr th {\n",
       "        vertical-align: top;\n",
       "    }\n",
       "\n",
       "    .dataframe thead th {\n",
       "        text-align: right;\n",
       "    }\n",
       "</style>\n",
       "<table border=\"1\" class=\"dataframe\">\n",
       "  <thead>\n",
       "    <tr style=\"text-align: right;\">\n",
       "      <th></th>\n",
       "      <th>Jenis_Kelamin</th>\n",
       "      <th>Umur</th>\n",
       "      <th>SIM</th>\n",
       "      <th>Kode_Daerah</th>\n",
       "      <th>Sudah_Asuransi</th>\n",
       "      <th>Umur_Kendaraan</th>\n",
       "      <th>Kendaraan_Rusak</th>\n",
       "      <th>Premi</th>\n",
       "      <th>Kanal_Penjualan</th>\n",
       "      <th>Lama_Berlangganan</th>\n",
       "    </tr>\n",
       "  </thead>\n",
       "  <tbody>\n",
       "    <tr>\n",
       "      <td>count</td>\n",
       "      <td>285831.000000</td>\n",
       "      <td>285831.000000</td>\n",
       "      <td>285831.000000</td>\n",
       "      <td>285831.000000</td>\n",
       "      <td>285831.000000</td>\n",
       "      <td>285831.000000</td>\n",
       "      <td>285831.000000</td>\n",
       "      <td>285831.000000</td>\n",
       "      <td>285831.000000</td>\n",
       "      <td>285831.000000</td>\n",
       "    </tr>\n",
       "    <tr>\n",
       "      <td>mean</td>\n",
       "      <td>0.563683</td>\n",
       "      <td>38.106147</td>\n",
       "      <td>0.997957</td>\n",
       "      <td>26.485220</td>\n",
       "      <td>0.435939</td>\n",
       "      <td>0.629288</td>\n",
       "      <td>0.529372</td>\n",
       "      <td>30536.683472</td>\n",
       "      <td>112.021567</td>\n",
       "      <td>154.286302</td>\n",
       "    </tr>\n",
       "    <tr>\n",
       "      <td>std</td>\n",
       "      <td>0.495929</td>\n",
       "      <td>15.471865</td>\n",
       "      <td>0.045155</td>\n",
       "      <td>12.921482</td>\n",
       "      <td>0.495880</td>\n",
       "      <td>0.559618</td>\n",
       "      <td>0.499137</td>\n",
       "      <td>16712.080405</td>\n",
       "      <td>52.829291</td>\n",
       "      <td>81.620684</td>\n",
       "    </tr>\n",
       "    <tr>\n",
       "      <td>min</td>\n",
       "      <td>0.000000</td>\n",
       "      <td>20.000000</td>\n",
       "      <td>0.000000</td>\n",
       "      <td>0.000000</td>\n",
       "      <td>0.000000</td>\n",
       "      <td>0.000000</td>\n",
       "      <td>0.000000</td>\n",
       "      <td>2630.000000</td>\n",
       "      <td>1.000000</td>\n",
       "      <td>10.000000</td>\n",
       "    </tr>\n",
       "    <tr>\n",
       "      <td>25%</td>\n",
       "      <td>0.000000</td>\n",
       "      <td>24.000000</td>\n",
       "      <td>1.000000</td>\n",
       "      <td>15.000000</td>\n",
       "      <td>0.000000</td>\n",
       "      <td>0.000000</td>\n",
       "      <td>0.000000</td>\n",
       "      <td>24929.000000</td>\n",
       "      <td>55.000000</td>\n",
       "      <td>85.000000</td>\n",
       "    </tr>\n",
       "    <tr>\n",
       "      <td>50%</td>\n",
       "      <td>1.000000</td>\n",
       "      <td>34.000000</td>\n",
       "      <td>1.000000</td>\n",
       "      <td>28.000000</td>\n",
       "      <td>0.000000</td>\n",
       "      <td>1.000000</td>\n",
       "      <td>1.000000</td>\n",
       "      <td>30949.000000</td>\n",
       "      <td>124.000000</td>\n",
       "      <td>154.286302</td>\n",
       "    </tr>\n",
       "    <tr>\n",
       "      <td>75%</td>\n",
       "      <td>1.000000</td>\n",
       "      <td>49.000000</td>\n",
       "      <td>1.000000</td>\n",
       "      <td>35.000000</td>\n",
       "      <td>1.000000</td>\n",
       "      <td>1.000000</td>\n",
       "      <td>1.000000</td>\n",
       "      <td>38845.000000</td>\n",
       "      <td>152.000000</td>\n",
       "      <td>223.000000</td>\n",
       "    </tr>\n",
       "    <tr>\n",
       "      <td>max</td>\n",
       "      <td>1.000000</td>\n",
       "      <td>85.000000</td>\n",
       "      <td>1.000000</td>\n",
       "      <td>52.000000</td>\n",
       "      <td>1.000000</td>\n",
       "      <td>2.000000</td>\n",
       "      <td>1.000000</td>\n",
       "      <td>540165.000000</td>\n",
       "      <td>163.000000</td>\n",
       "      <td>299.000000</td>\n",
       "    </tr>\n",
       "  </tbody>\n",
       "</table>\n",
       "</div>"
      ],
      "text/plain": [
       "       Jenis_Kelamin           Umur            SIM    Kode_Daerah  \\\n",
       "count  285831.000000  285831.000000  285831.000000  285831.000000   \n",
       "mean        0.563683      38.106147       0.997957      26.485220   \n",
       "std         0.495929      15.471865       0.045155      12.921482   \n",
       "min         0.000000      20.000000       0.000000       0.000000   \n",
       "25%         0.000000      24.000000       1.000000      15.000000   \n",
       "50%         1.000000      34.000000       1.000000      28.000000   \n",
       "75%         1.000000      49.000000       1.000000      35.000000   \n",
       "max         1.000000      85.000000       1.000000      52.000000   \n",
       "\n",
       "       Sudah_Asuransi  Umur_Kendaraan  Kendaraan_Rusak          Premi  \\\n",
       "count   285831.000000   285831.000000    285831.000000  285831.000000   \n",
       "mean         0.435939        0.629288         0.529372   30536.683472   \n",
       "std          0.495880        0.559618         0.499137   16712.080405   \n",
       "min          0.000000        0.000000         0.000000    2630.000000   \n",
       "25%          0.000000        0.000000         0.000000   24929.000000   \n",
       "50%          0.000000        1.000000         1.000000   30949.000000   \n",
       "75%          1.000000        1.000000         1.000000   38845.000000   \n",
       "max          1.000000        2.000000         1.000000  540165.000000   \n",
       "\n",
       "       Kanal_Penjualan  Lama_Berlangganan  \n",
       "count    285831.000000      285831.000000  \n",
       "mean        112.021567         154.286302  \n",
       "std          52.829291          81.620684  \n",
       "min           1.000000          10.000000  \n",
       "25%          55.000000          85.000000  \n",
       "50%         124.000000         154.286302  \n",
       "75%         152.000000         223.000000  \n",
       "max         163.000000         299.000000  "
      ]
     },
     "execution_count": 26,
     "metadata": {},
     "output_type": "execute_result"
    }
   ],
   "source": [
    "df.describe()"
   ]
  },
  {
   "cell_type": "markdown",
   "metadata": {
    "id": "_YdN-lSO_Vn-"
   },
   "source": [
    "## **Check Outliers**"
   ]
  },
  {
   "cell_type": "code",
   "execution_count": 27,
   "metadata": {
    "colab": {
     "base_uri": "https://localhost:8080/",
     "height": 1000
    },
    "id": "7HqOC3X6_RfB",
    "outputId": "cdc6cf39-e011-4800-8cce-68c5701afa90"
   },
   "outputs": [
    {
     "data": {
      "image/png": "[encoded data removed]",
      "text/plain": [
       "<Figure size 432x288 with 1 Axes>"
      ]
     },
     "metadata": {
      "needs_background": "light"
     },
     "output_type": "display_data"
    },
    {
     "data": {
      "image/png": "[encoded data removed]",
      "text/plain": [
       "<Figure size 432x288 with 1 Axes>"
      ]
     },
     "metadata": {
      "needs_background": "light"
     },
     "output_type": "display_data"
    },
    {
     "data": {
      "image/png": "[encoded data removed]",
      "text/plain": [
       "<Figure size 432x288 with 1 Axes>"
      ]
     },
     "metadata": {
      "needs_background": "light"
     },
     "output_type": "display_data"
    },
    {
     "data": {
      "image/png": "[encoded data removed]",
      "text/plain": [
       "<Figure size 432x288 with 1 Axes>"
      ]
     },
     "metadata": {
      "needs_background": "light"
     },
     "output_type": "display_data"
    }
   ],
   "source": [
    "plt.figure() # untuk membuat figure baru\n",
    "sns.boxplot(x=df['Umur'])\n",
    "plt.show()\n",
    "plt.figure() # untuk membuat figure baru\n",
    "sns.boxplot(x=df['Premi'])\n",
    "plt.show()\n",
    "plt.figure() # untuk membuat figure baru\n",
    "sns.boxplot(x=df['Kanal_Penjualan'])\n",
    "plt.show()\n",
    "plt.figure() # untuk membuat figure baru\n",
    "sns.boxplot(x=df['Lama_Berlangganan'])\n",
    "plt.show()"
   ]
  },
  {
   "cell_type": "markdown",
   "metadata": {
    "id": "fnONsVFt6wHe"
   },
   "source": [
    "## **Mengatasi Outliers**"
   ]
  },
  {
   "cell_type": "code",
   "execution_count": 28,
   "metadata": {
    "id": "o2ODmouQAXI7"
   },
   "outputs": [],
   "source": [
    "def interquartil(df,x):\n",
    "  q1 = df[x].quantile(0.25)\n",
    "  q3 = df[x].quantile(0.75)\n",
    "  iqr = q3 - q1\n",
    "  maximum = q3 + (1.5*iqr)\n",
    "  minimum = q1 - (1.5*iqr)\n",
    "  return maximum,minimum"
   ]
  },
  {
   "cell_type": "code",
   "execution_count": 29,
   "metadata": {
    "id": "iYjPwJIc51PP"
   },
   "outputs": [],
   "source": [
    "def replace_outliers(df,x):\n",
    "  maximum,minimum = interquartil(df,x)\n",
    "  more_than = (df[x] > maximum)\n",
    "  lower_than = (df[x] < minimum)\n",
    "  df[x] = df[x].mask(more_than, maximum, axis=0)\n",
    "  df[x] = df[x].mask(lower_than, minimum, axis=0)\n",
    "  return df"
   ]
  },
  {
   "cell_type": "code",
   "execution_count": 30,
   "metadata": {
    "id": "D8Kj0JDA_Wov"
   },
   "outputs": [],
   "source": [
    "df = replace_outliers(df,'Premi')"
   ]
  },
  {
   "cell_type": "markdown",
   "metadata": {
    "id": "kVC7MvbOAwGa"
   },
   "source": [
    "### **Setelah Ditangani Outlier** "
   ]
  },
  {
   "cell_type": "code",
   "execution_count": 31,
   "metadata": {
    "colab": {
     "base_uri": "https://localhost:8080/",
     "height": 0
    },
    "id": "c09jzLLV_yqM",
    "outputId": "4530baff-b88e-440a-e7f1-2285547d2f8c"
   },
   "outputs": [
    {
     "data": {
      "image/png": "[encoded data removed]",
      "text/plain": [
       "<Figure size 432x288 with 1 Axes>"
      ]
     },
     "metadata": {
      "needs_background": "light"
     },
     "output_type": "display_data"
    }
   ],
   "source": [
    "plt.figure() # untuk membuat figure baru\n",
    "sns.boxplot(x=df['Premi'])\n",
    "plt.show()"
   ]
  },
  {
   "cell_type": "markdown",
   "metadata": {
    "id": "xmuzjxlSLFwW"
   },
   "source": [
    "## **Korelasi**"
   ]
  },
  {
   "cell_type": "code",
   "execution_count": 32,
   "metadata": {
    "colab": {
     "base_uri": "https://localhost:8080/",
     "height": 0
    },
    "id": "uV_YdIhbArJR",
    "outputId": "6d7af02b-2a86-49b3-b1e5-70fae867dda3"
   },
   "outputs": [
    {
     "data": {
      "text/plain": [
       "<matplotlib.axes._subplots.AxesSubplot at 0x241009c2188>"
      ]
     },
     "execution_count": 32,
     "metadata": {},
     "output_type": "execute_result"
    },
    {
     "data": {
      "image/png": "[encoded data removed]",
      "text/plain": [
       "<Figure size 1008x432 with 2 Axes>"
      ]
     },
     "metadata": {
      "needs_background": "light"
     },
     "output_type": "display_data"
    }
   ],
   "source": [
    "df_korelasi = df.corr()\n",
    "plt.figure(figsize=(14, 6))\n",
    "sns.heatmap(df_korelasi, annot=True, vmin = 0, vmax=1, annot_kws={\"fontsize\":8}, cmap='Blues')"
   ]
  },
  {
   "cell_type": "markdown",
   "metadata": {
    "id": "dyF8sdOTUUtj"
   },
   "source": [
    "## **NORMALISASI**"
   ]
  },
  {
   "cell_type": "code",
   "execution_count": 33,
   "metadata": {
    "id": "iviRZlCkLWSW"
   },
   "outputs": [],
   "source": [
    "for x in df.drop(['Jenis_Kelamin', 'SIM', 'Sudah_Asuransi', 'Umur_Kendaraan', 'Kendaraan_Rusak'],axis=1):\n",
    "  df[x] = (df[x]-df[x].min())/(df[x].max()-df[x].min())"
   ]
  },
  {
   "cell_type": "code",
   "execution_count": 34,
   "metadata": {
    "colab": {
     "base_uri": "https://localhost:8080/",
     "height": 224
    },
    "id": "0cZPNM1kU1vI",
    "outputId": "519bac87-5155-4837-b889-1d339243aa8a"
   },
   "outputs": [
    {
     "data": {
      "text/html": [
       "<div>\n",
       "<style scoped>\n",
       "    .dataframe tbody tr th:only-of-type {\n",
       "        vertical-align: middle;\n",
       "    }\n",
       "\n",
       "    .dataframe tbody tr th {\n",
       "        vertical-align: top;\n",
       "    }\n",
       "\n",
       "    .dataframe thead th {\n",
       "        text-align: right;\n",
       "    }\n",
       "</style>\n",
       "<table border=\"1\" class=\"dataframe\">\n",
       "  <thead>\n",
       "    <tr style=\"text-align: right;\">\n",
       "      <th></th>\n",
       "      <th>Jenis_Kelamin</th>\n",
       "      <th>Umur</th>\n",
       "      <th>SIM</th>\n",
       "      <th>Kode_Daerah</th>\n",
       "      <th>Sudah_Asuransi</th>\n",
       "      <th>Umur_Kendaraan</th>\n",
       "      <th>Kendaraan_Rusak</th>\n",
       "      <th>Premi</th>\n",
       "      <th>Kanal_Penjualan</th>\n",
       "      <th>Lama_Berlangganan</th>\n",
       "    </tr>\n",
       "  </thead>\n",
       "  <tbody>\n",
       "    <tr>\n",
       "      <td>0</td>\n",
       "      <td>0.0</td>\n",
       "      <td>0.153846</td>\n",
       "      <td>1.0</td>\n",
       "      <td>0.634615</td>\n",
       "      <td>1.0</td>\n",
       "      <td>0.0</td>\n",
       "      <td>0.0</td>\n",
       "      <td>0.430691</td>\n",
       "      <td>0.932099</td>\n",
       "      <td>0.301038</td>\n",
       "    </tr>\n",
       "    <tr>\n",
       "      <td>1</td>\n",
       "      <td>1.0</td>\n",
       "      <td>0.430769</td>\n",
       "      <td>1.0</td>\n",
       "      <td>0.750000</td>\n",
       "      <td>0.0</td>\n",
       "      <td>2.0</td>\n",
       "      <td>1.0</td>\n",
       "      <td>0.390647</td>\n",
       "      <td>0.172840</td>\n",
       "      <td>0.512111</td>\n",
       "    </tr>\n",
       "    <tr>\n",
       "      <td>2</td>\n",
       "      <td>1.0</td>\n",
       "      <td>0.015385</td>\n",
       "      <td>1.0</td>\n",
       "      <td>0.884615</td>\n",
       "      <td>1.0</td>\n",
       "      <td>0.0</td>\n",
       "      <td>0.0</td>\n",
       "      <td>0.515198</td>\n",
       "      <td>0.981481</td>\n",
       "      <td>0.377163</td>\n",
       "    </tr>\n",
       "    <tr>\n",
       "      <td>3</td>\n",
       "      <td>0.0</td>\n",
       "      <td>0.584615</td>\n",
       "      <td>1.0</td>\n",
       "      <td>0.923077</td>\n",
       "      <td>0.0</td>\n",
       "      <td>1.0</td>\n",
       "      <td>0.0</td>\n",
       "      <td>0.000000</td>\n",
       "      <td>0.759259</td>\n",
       "      <td>0.183391</td>\n",
       "    </tr>\n",
       "    <tr>\n",
       "      <td>4</td>\n",
       "      <td>1.0</td>\n",
       "      <td>0.461538</td>\n",
       "      <td>1.0</td>\n",
       "      <td>0.673077</td>\n",
       "      <td>0.0</td>\n",
       "      <td>2.0</td>\n",
       "      <td>1.0</td>\n",
       "      <td>0.553356</td>\n",
       "      <td>0.537037</td>\n",
       "      <td>0.636678</td>\n",
       "    </tr>\n",
       "  </tbody>\n",
       "</table>\n",
       "</div>"
      ],
      "text/plain": [
       "   Jenis_Kelamin      Umur  SIM  Kode_Daerah  Sudah_Asuransi  Umur_Kendaraan  \\\n",
       "0            0.0  0.153846  1.0     0.634615             1.0             0.0   \n",
       "1            1.0  0.430769  1.0     0.750000             0.0             2.0   \n",
       "2            1.0  0.015385  1.0     0.884615             1.0             0.0   \n",
       "3            0.0  0.584615  1.0     0.923077             0.0             1.0   \n",
       "4            1.0  0.461538  1.0     0.673077             0.0             2.0   \n",
       "\n",
       "   Kendaraan_Rusak     Premi  Kanal_Penjualan  Lama_Berlangganan  \n",
       "0              0.0  0.430691         0.932099           0.301038  \n",
       "1              1.0  0.390647         0.172840           0.512111  \n",
       "2              0.0  0.515198         0.981481           0.377163  \n",
       "3              0.0  0.000000         0.759259           0.183391  \n",
       "4              1.0  0.553356         0.537037           0.636678  "
      ]
     },
     "execution_count": 34,
     "metadata": {},
     "output_type": "execute_result"
    }
   ],
   "source": [
    "df.head()"
   ]
  },
  {
   "cell_type": "markdown",
   "metadata": {
    "id": "h2N9pQ2gofrT"
   },
   "source": [
    "### **Data Train**"
   ]
  },
  {
   "cell_type": "code",
   "execution_count": 35,
   "metadata": {
    "colab": {
     "base_uri": "https://localhost:8080/",
     "height": 0
    },
    "id": "obA5G5OOblw8",
    "outputId": "fe47a89d-781c-4c71-d512-4f0ff29cf3f9"
   },
   "outputs": [
    {
     "data": {
      "text/html": [
       "<div>\n",
       "<style scoped>\n",
       "    .dataframe tbody tr th:only-of-type {\n",
       "        vertical-align: middle;\n",
       "    }\n",
       "\n",
       "    .dataframe tbody tr th {\n",
       "        vertical-align: top;\n",
       "    }\n",
       "\n",
       "    .dataframe thead th {\n",
       "        text-align: right;\n",
       "    }\n",
       "</style>\n",
       "<table border=\"1\" class=\"dataframe\">\n",
       "  <thead>\n",
       "    <tr style=\"text-align: right;\">\n",
       "      <th></th>\n",
       "      <th>Premi</th>\n",
       "      <th>Kanal_Penjualan</th>\n",
       "    </tr>\n",
       "  </thead>\n",
       "  <tbody>\n",
       "    <tr>\n",
       "      <td>0</td>\n",
       "      <td>0.430691</td>\n",
       "      <td>0.932099</td>\n",
       "    </tr>\n",
       "    <tr>\n",
       "      <td>1</td>\n",
       "      <td>0.390647</td>\n",
       "      <td>0.172840</td>\n",
       "    </tr>\n",
       "    <tr>\n",
       "      <td>2</td>\n",
       "      <td>0.515198</td>\n",
       "      <td>0.981481</td>\n",
       "    </tr>\n",
       "    <tr>\n",
       "      <td>3</td>\n",
       "      <td>0.000000</td>\n",
       "      <td>0.759259</td>\n",
       "    </tr>\n",
       "    <tr>\n",
       "      <td>4</td>\n",
       "      <td>0.553356</td>\n",
       "      <td>0.537037</td>\n",
       "    </tr>\n",
       "    <tr>\n",
       "      <td>...</td>\n",
       "      <td>...</td>\n",
       "      <td>...</td>\n",
       "    </tr>\n",
       "    <tr>\n",
       "      <td>285826</td>\n",
       "      <td>0.394025</td>\n",
       "      <td>0.932099</td>\n",
       "    </tr>\n",
       "    <tr>\n",
       "      <td>285827</td>\n",
       "      <td>0.729933</td>\n",
       "      <td>0.932099</td>\n",
       "    </tr>\n",
       "    <tr>\n",
       "      <td>285828</td>\n",
       "      <td>0.820926</td>\n",
       "      <td>0.932099</td>\n",
       "    </tr>\n",
       "    <tr>\n",
       "      <td>285829</td>\n",
       "      <td>0.475137</td>\n",
       "      <td>0.759259</td>\n",
       "    </tr>\n",
       "    <tr>\n",
       "      <td>285830</td>\n",
       "      <td>0.582513</td>\n",
       "      <td>0.154321</td>\n",
       "    </tr>\n",
       "  </tbody>\n",
       "</table>\n",
       "<p>285831 rows × 2 columns</p>\n",
       "</div>"
      ],
      "text/plain": [
       "           Premi  Kanal_Penjualan\n",
       "0       0.430691         0.932099\n",
       "1       0.390647         0.172840\n",
       "2       0.515198         0.981481\n",
       "3       0.000000         0.759259\n",
       "4       0.553356         0.537037\n",
       "...          ...              ...\n",
       "285826  0.394025         0.932099\n",
       "285827  0.729933         0.932099\n",
       "285828  0.820926         0.932099\n",
       "285829  0.475137         0.759259\n",
       "285830  0.582513         0.154321\n",
       "\n",
       "[285831 rows x 2 columns]"
      ]
     },
     "execution_count": 35,
     "metadata": {},
     "output_type": "execute_result"
    }
   ],
   "source": [
    "df_train = df[['Premi','Kanal_Penjualan']]\n",
    "df_train"
   ]
  },
  {
   "cell_type": "markdown",
   "metadata": {
    "id": "U84vlCSJZo_l"
   },
   "source": [
    "# **Clustering**"
   ]
  },
  {
   "cell_type": "markdown",
   "metadata": {
    "id": "uo_KEtBkCyfx"
   },
   "source": [
    "## **Euclidean Distance**"
   ]
  },
  {
   "cell_type": "code",
   "execution_count": 36,
   "metadata": {
    "id": "hCWFxtnVC4ds"
   },
   "outputs": [],
   "source": [
    "def euclideanDist(d1,d2):\n",
    "  return np.sqrt(np.sum((d1-d2)**2))"
   ]
  },
  {
   "cell_type": "code",
   "execution_count": 37,
   "metadata": {
    "id": "yVgmbX2-jda-"
   },
   "outputs": [],
   "source": [
    "#euclideanDist(x.iloc[2],centro.iloc[1])"
   ]
  },
  {
   "cell_type": "markdown",
   "metadata": {
    "id": "LFatlHrTNKNl"
   },
   "source": [
    "## **Initialized Centroid**\n",
    "\n"
   ]
  },
  {
   "cell_type": "code",
   "execution_count": 38,
   "metadata": {
    "id": "cXUy0zVjQvE2"
   },
   "outputs": [],
   "source": [
    "def random_centroid(df,k):\n",
    "  random_idx = [np.random.randint(len(df)) for i in range(k)]\n",
    "  centroids = []\n",
    "  for i in random_idx:\n",
    "    centroids.append(df.iloc[i].tolist())\n",
    "  return np.asarray(centroids)"
   ]
  },
  {
   "cell_type": "markdown",
   "metadata": {
    "id": "IgWhvyjIj2v4"
   },
   "source": [
    "### **Mengitung jarak object dengan centroid**"
   ]
  },
  {
   "cell_type": "code",
   "execution_count": 39,
   "metadata": {
    "id": "92ZUJjinj8KG"
   },
   "outputs": [],
   "source": [
    "def DOC(df,centroids,k):\n",
    "  save_pca = []\n",
    "  for i in range(len(df)):\n",
    "    euc_d = []\n",
    "    for j in range(k):\n",
    "      euc_d.append(euclideanDist(df.iloc[i].tolist(),centroids[j]))\n",
    "    save_pca.append(euc_d)\n",
    "  return np.asarray(save_pca)"
   ]
  },
  {
   "cell_type": "markdown",
   "metadata": {
    "id": "7j0H_dbGxxtJ"
   },
   "source": [
    "## **Menentukan Atribut di Cluster Tertentu**"
   ]
  },
  {
   "cell_type": "code",
   "execution_count": 40,
   "metadata": {
    "id": "vAgdpgavTHHR"
   },
   "outputs": [],
   "source": [
    "def assign_cluster(df,centroids,k):\n",
    "  cluster = []\n",
    "  for i in range(len(df)):\n",
    "    euc_d = []\n",
    "    for j in range(k):\n",
    "      euc_d.append(euclideanDist(df.iloc[i],centroids[j]))\n",
    "    idx = np.argmin(euc_d)\n",
    "    cluster.append(idx)\n",
    "  return np.asarray(cluster)"
   ]
  },
  {
   "cell_type": "markdown",
   "metadata": {
    "id": "lWPw_zOEx7Db"
   },
   "source": [
    "## **Update Centroid**"
   ]
  },
  {
   "cell_type": "code",
   "execution_count": 41,
   "metadata": {
    "id": "kjdFAHmGyLVW"
   },
   "outputs": [],
   "source": [
    "def compute_centroid(df,cluster,k):\n",
    "  centroid = []\n",
    "  for i in range(k):\n",
    "    temp_arr = []\n",
    "    for j in range(len(df)):\n",
    "      if (cluster[j]==i).all():\n",
    "        temp_arr.append(df.iloc[j].tolist())\n",
    "    if (len(temp_arr)!=0):\n",
    "      centroid.append(np.mean(temp_arr,axis=0))\n",
    "    else:\n",
    "      centroid.append([0]*df.shape[1])\n",
    "  return np.asarray(centroid)"
   ]
  },
  {
   "cell_type": "markdown",
   "metadata": {
    "id": "367dK30FMP3x"
   },
   "source": [
    "## **Input PCA1 and PCA2 into Dataframe**\n"
   ]
  },
  {
   "cell_type": "code",
   "execution_count": 42,
   "metadata": {
    "id": "phIRmAr2MjI8"
   },
   "outputs": [],
   "source": [
    "def inputDOC(df,centroids,cluster,k):\n",
    "  df2 = copy.deepcopy(df)\n",
    "  doc = DOC(df2,centroids,k)\n",
    "  for j in range(k):\n",
    "    df2['D(O,C{})'.format(j+1)] = [doc[i][j] for i in range(len(doc))]\n",
    "    \n",
    "  df2['Cluster'] = cluster\n",
    "  return df2\n"
   ]
  },
  {
   "cell_type": "markdown",
   "metadata": {
    "id": "cwqrtdGgrNUA"
   },
   "source": [
    "## **Function Clustering**"
   ]
  },
  {
   "cell_type": "code",
   "execution_count": 43,
   "metadata": {
    "id": "KO3J5tLjSG6D"
   },
   "outputs": [],
   "source": [
    "def clusterisasi(df,k):\n",
    "  cek = True\n",
    "  centroid = random_centroid(df,k)\n",
    "  df2 = copy.deepcopy(df)\n",
    "  while (cek):\n",
    "    oldcentroid = copy.deepcopy(centroid)\n",
    "    cluster = assign_cluster(df2,centroid,k) \n",
    "    centroid = compute_centroid(df2,cluster,k)\n",
    "    if (oldcentroid==centroid).all():\n",
    "      cek = False\n",
    "  return np.asarray(centroid),np.asarray(cluster+1)"
   ]
  },
  {
   "cell_type": "code",
   "execution_count": 44,
   "metadata": {
    "id": "MsnN22Bx4Me-"
   },
   "outputs": [],
   "source": [
    "def visualisasi(df,centroid,k):\n",
    "  # Set Warna Setiap CLuster\n",
    "  colors = ['r', 'g', '#0080ff', '#e69500', '#e89500']\n",
    "\n",
    "  # Set Ukuran Dan Judul Plot\n",
    "  plt.figure(figsize=(8, 8))\n",
    "  plt.title('Data Clustering Result')\n",
    "\n",
    "  # Melakukan Looping Setiap Titik Data Dan Centroid\n",
    "  for i in range(k):\n",
    "      plt.scatter(\n",
    "          df['Premi'][df['Cluster'] == i+1], \n",
    "          df['Kanal_Penjualan'][df['Cluster'] == i+1],\n",
    "          color=colors[i],\n",
    "          label=f'Cluster {i+1}'\n",
    "      )\n",
    "\n",
    "      plt.scatter(centroid[i][0], centroid[i][1], color='k', marker='P')\n",
    "\n",
    "  # Acuan Penampilan Label Centroid\n",
    "  plt.scatter(centroid[0][0], centroid[0][1], color='k', label=\"Centroids\", marker='P')\n",
    "\n",
    "  # Set Nama Label X Dan Y Pada Plot Dan Set Tempat Legend Ditampilkan\n",
    "  plt.xlabel(\"Premi\")\n",
    "  plt.ylabel(\"Kanal_Penjualan\")\n",
    "  plt.legend(loc='best', bbox_to_anchor=(1, 0.5))\n",
    "  plt.show()\n",
    "\n"
   ]
  },
  {
   "cell_type": "markdown",
   "metadata": {
    "id": "CjSn6bMX3ip0"
   },
   "source": [
    "# **EVALUASI**"
   ]
  },
  {
   "cell_type": "markdown",
   "metadata": {
    "id": "8uIZD0MFwHUu"
   },
   "source": [
    "## **Sum of Squared Error (SSE)**\n",
    "![image.png](data:image/png;base64,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)\n"
   ]
  },
  {
   "cell_type": "code",
   "execution_count": 45,
   "metadata": {
    "id": "JkzVXWVJwZfL"
   },
   "outputs": [],
   "source": [
    "def sse(df,k):\n",
    "  sum = 0\n",
    "  for i in range(k):\n",
    "    x = df[(df['Cluster'] == i+1)]['D(O,C{})'.format(i+1)]**2\n",
    "    sum += x.sum()\n",
    "  return sum"
   ]
  },
  {
   "cell_type": "markdown",
   "metadata": {
    "id": "AWBEwwyZ3sT5"
   },
   "source": [
    "## **ELBOW METHOD** \n"
   ]
  },
  {
   "cell_type": "code",
   "execution_count": 68,
   "metadata": {
    "id": "8-j0iVLQ4bo7"
   },
   "outputs": [],
   "source": [
    "def elbowMethod(df,k_target):\n",
    "  # Inisialisasi Array Untuk Distortion\n",
    "  distortions = []\n",
    "\n",
    "  # Inisialisasi Range K\n",
    "  K = range(1, k_target)\n",
    "\n",
    "  # Melakukan Perulangan Untuk Setiap Range\n",
    "  for i in K:\n",
    "      # Membangun Dan Fit Dataset\n",
    "      model = KMeans(n_clusters=i).fit(df)\n",
    "      model.fit(df)\n",
    "\n",
    "      # Memasukkan Hasil Dari Jumlah cdist data, cluster_center Ke Array\n",
    "      distortions.append(sum(np.min(cdist(df, model.cluster_centers_, 'euclidean'), axis=1)) / df.shape[0])\n",
    "\n",
    "  # Plot data\n",
    "  plt.plot(K, distortions, 'bx-')\n",
    "  plt.xlabel('Nilai K')\n",
    "  plt.ylabel('Distortion')\n",
    "  plt.title('Evaluasi Jumlah Cluster Dengan Elbow Method')\n",
    "  plt.show()"
   ]
  },
  {
   "cell_type": "markdown",
   "metadata": {
    "id": "Q5tgH9lBywXn"
   },
   "source": [
    "# **EKSPERIMEN**"
   ]
  },
  {
   "cell_type": "markdown",
   "metadata": {
    "id": "wAQm-9o-y86e"
   },
   "source": [
    "## **K=2**"
   ]
  },
  {
   "cell_type": "markdown",
   "metadata": {
    "id": "2YcOndpUasPE"
   },
   "source": [
    "### **Clustering**"
   ]
  },
  {
   "cell_type": "code",
   "execution_count": 47,
   "metadata": {
    "id": "L59hir0Cy760"
   },
   "outputs": [],
   "source": [
    "k2 = 2\n",
    "df_train2 = copy.deepcopy(df_train)\n",
    "centroid2,cluster2 = clusterisasi(df_train2,k2)\n",
    "df_train2 = inputDOC(df_train2,centroid2,cluster2,k2)"
   ]
  },
  {
   "cell_type": "markdown",
   "metadata": {
    "id": "NyZKNwZya03A"
   },
   "source": [
    "### **Visualisasi Data** "
   ]
  },
  {
   "cell_type": "markdown",
   "metadata": {
    "id": "GBjI3-tNa-Xi"
   },
   "source": [
    "Melihat 10 Data Teratas"
   ]
  },
  {
   "cell_type": "code",
   "execution_count": 48,
   "metadata": {
    "colab": {
     "base_uri": "https://localhost:8080/",
     "height": 359
    },
    "id": "HmCUy9-w3l3s",
    "outputId": "8b060b4b-b1ba-4662-cb43-561588445c6d"
   },
   "outputs": [
    {
     "data": {
      "text/html": [
       "<div>\n",
       "<style scoped>\n",
       "    .dataframe tbody tr th:only-of-type {\n",
       "        vertical-align: middle;\n",
       "    }\n",
       "\n",
       "    .dataframe tbody tr th {\n",
       "        vertical-align: top;\n",
       "    }\n",
       "\n",
       "    .dataframe thead th {\n",
       "        text-align: right;\n",
       "    }\n",
       "</style>\n",
       "<table border=\"1\" class=\"dataframe\">\n",
       "  <thead>\n",
       "    <tr style=\"text-align: right;\">\n",
       "      <th></th>\n",
       "      <th>Premi</th>\n",
       "      <th>Kanal_Penjualan</th>\n",
       "      <th>D(O,C1)</th>\n",
       "      <th>D(O,C2)</th>\n",
       "      <th>Cluster</th>\n",
       "    </tr>\n",
       "  </thead>\n",
       "  <tbody>\n",
       "    <tr>\n",
       "      <td>0</td>\n",
       "      <td>0.430691</td>\n",
       "      <td>0.932099</td>\n",
       "      <td>0.068007</td>\n",
       "      <td>0.785468</td>\n",
       "      <td>1</td>\n",
       "    </tr>\n",
       "    <tr>\n",
       "      <td>1</td>\n",
       "      <td>0.390647</td>\n",
       "      <td>0.172840</td>\n",
       "      <td>0.699891</td>\n",
       "      <td>0.125039</td>\n",
       "      <td>2</td>\n",
       "    </tr>\n",
       "    <tr>\n",
       "      <td>2</td>\n",
       "      <td>0.515198</td>\n",
       "      <td>0.981481</td>\n",
       "      <td>0.125993</td>\n",
       "      <td>0.830446</td>\n",
       "      <td>1</td>\n",
       "    </tr>\n",
       "    <tr>\n",
       "      <td>3</td>\n",
       "      <td>0.000000</td>\n",
       "      <td>0.759259</td>\n",
       "      <td>0.470478</td>\n",
       "      <td>0.796175</td>\n",
       "      <td>1</td>\n",
       "    </tr>\n",
       "    <tr>\n",
       "      <td>4</td>\n",
       "      <td>0.553356</td>\n",
       "      <td>0.537037</td>\n",
       "      <td>0.346083</td>\n",
       "      <td>0.388025</td>\n",
       "      <td>1</td>\n",
       "    </tr>\n",
       "    <tr>\n",
       "      <td>5</td>\n",
       "      <td>0.335585</td>\n",
       "      <td>0.932099</td>\n",
       "      <td>0.136912</td>\n",
       "      <td>0.801129</td>\n",
       "      <td>1</td>\n",
       "    </tr>\n",
       "    <tr>\n",
       "      <td>6</td>\n",
       "      <td>0.509845</td>\n",
       "      <td>0.759259</td>\n",
       "      <td>0.122132</td>\n",
       "      <td>0.608235</td>\n",
       "      <td>1</td>\n",
       "    </tr>\n",
       "    <tr>\n",
       "      <td>7</td>\n",
       "      <td>0.409852</td>\n",
       "      <td>0.932099</td>\n",
       "      <td>0.078557</td>\n",
       "      <td>0.787945</td>\n",
       "      <td>1</td>\n",
       "    </tr>\n",
       "    <tr>\n",
       "      <td>8</td>\n",
       "      <td>0.480221</td>\n",
       "      <td>0.981481</td>\n",
       "      <td>0.114247</td>\n",
       "      <td>0.831122</td>\n",
       "      <td>1</td>\n",
       "    </tr>\n",
       "    <tr>\n",
       "      <td>9</td>\n",
       "      <td>1.000000</td>\n",
       "      <td>0.759259</td>\n",
       "      <td>0.553724</td>\n",
       "      <td>0.778687</td>\n",
       "      <td>1</td>\n",
       "    </tr>\n",
       "  </tbody>\n",
       "</table>\n",
       "</div>"
      ],
      "text/plain": [
       "      Premi  Kanal_Penjualan   D(O,C1)   D(O,C2)  Cluster\n",
       "0  0.430691         0.932099  0.068007  0.785468        1\n",
       "1  0.390647         0.172840  0.699891  0.125039        2\n",
       "2  0.515198         0.981481  0.125993  0.830446        1\n",
       "3  0.000000         0.759259  0.470478  0.796175        1\n",
       "4  0.553356         0.537037  0.346083  0.388025        1\n",
       "5  0.335585         0.932099  0.136912  0.801129        1\n",
       "6  0.509845         0.759259  0.122132  0.608235        1\n",
       "7  0.409852         0.932099  0.078557  0.787945        1\n",
       "8  0.480221         0.981481  0.114247  0.831122        1\n",
       "9  1.000000         0.759259  0.553724  0.778687        1"
      ]
     },
     "execution_count": 48,
     "metadata": {},
     "output_type": "execute_result"
    }
   ],
   "source": [
    "df_train2.head(10)"
   ]
  },
  {
   "cell_type": "markdown",
   "metadata": {
    "id": "C06Kl1SubNEH"
   },
   "source": [
    "Visualisasi Data Cluster dengan Scatter Plot"
   ]
  },
  {
   "cell_type": "code",
   "execution_count": 49,
   "metadata": {
    "colab": {
     "base_uri": "https://localhost:8080/",
     "height": 513
    },
    "id": "rS_qK91Napte",
    "outputId": "cafd569d-428a-4e65-fdf3-6734c5f0878e"
   },
   "outputs": [
    {
     "data": {
      "image/png": "[encoded data removed]",
      "text/plain": [
       "<Figure size 576x576 with 1 Axes>"
      ]
     },
     "metadata": {
      "needs_background": "light"
     },
     "output_type": "display_data"
    }
   ],
   "source": [
    "visualisasi(df_train2,centroid2,k2)"
   ]
  },
  {
   "cell_type": "markdown",
   "metadata": {
    "id": "MAW6FQtQbn1M"
   },
   "source": [
    "### **Evaluasi**"
   ]
  },
  {
   "cell_type": "markdown",
   "metadata": {
    "id": "3uzR4ST3cF2r"
   },
   "source": [
    "SSE"
   ]
  },
  {
   "cell_type": "code",
   "execution_count": 75,
   "metadata": {
    "id": "Zvsj2FTJ0gUs"
   },
   "outputs": [
    {
     "name": "stdout",
     "output_type": "stream",
     "text": [
      "sse dengan k=2:  21570.65976249103\n"
     ]
    }
   ],
   "source": [
    "sse2 = sse(df_train2,k2)\n",
    "print(\"sse dengan k=2: \",sse2)"
   ]
  },
  {
   "cell_type": "markdown",
   "metadata": {
    "id": "u66mhWDn1LD2"
   },
   "source": [
    "## **K=3**"
   ]
  },
  {
   "cell_type": "markdown",
   "metadata": {
    "id": "HRU0CTz0cdwj"
   },
   "source": [
    "### **Clustering**"
   ]
  },
  {
   "cell_type": "code",
   "execution_count": 51,
   "metadata": {
    "id": "k7sUsapQ1LD2"
   },
   "outputs": [],
   "source": [
    "k3 = 3\n",
    "df_train3 = copy.deepcopy(df_train)\n",
    "centroid3,cluster3 = clusterisasi(df_train3,k3)\n",
    "df_train3 = inputDOC(df_train3,centroid3,cluster3,k3)"
   ]
  },
  {
   "cell_type": "markdown",
   "metadata": {
    "id": "mUjOJsH9csVz"
   },
   "source": [
    "### **Visualisasi Data** "
   ]
  },
  {
   "cell_type": "markdown",
   "metadata": {
    "id": "nueXNJ2OcsVz"
   },
   "source": [
    "Melihat 10 Data Teratas"
   ]
  },
  {
   "cell_type": "code",
   "execution_count": 52,
   "metadata": {
    "colab": {
     "base_uri": "https://localhost:8080/",
     "height": 359
    },
    "id": "zlxchfvocsVz",
    "outputId": "ca8092eb-0ffa-485e-f71a-344823bd4c2b"
   },
   "outputs": [
    {
     "data": {
      "text/html": [
       "<div>\n",
       "<style scoped>\n",
       "    .dataframe tbody tr th:only-of-type {\n",
       "        vertical-align: middle;\n",
       "    }\n",
       "\n",
       "    .dataframe tbody tr th {\n",
       "        vertical-align: top;\n",
       "    }\n",
       "\n",
       "    .dataframe thead th {\n",
       "        text-align: right;\n",
       "    }\n",
       "</style>\n",
       "<table border=\"1\" class=\"dataframe\">\n",
       "  <thead>\n",
       "    <tr style=\"text-align: right;\">\n",
       "      <th></th>\n",
       "      <th>Premi</th>\n",
       "      <th>Kanal_Penjualan</th>\n",
       "      <th>D(O,C1)</th>\n",
       "      <th>D(O,C2)</th>\n",
       "      <th>D(O,C3)</th>\n",
       "      <th>Cluster</th>\n",
       "    </tr>\n",
       "  </thead>\n",
       "  <tbody>\n",
       "    <tr>\n",
       "      <td>0</td>\n",
       "      <td>0.430691</td>\n",
       "      <td>0.932099</td>\n",
       "      <td>0.800559</td>\n",
       "      <td>0.883101</td>\n",
       "      <td>0.067921</td>\n",
       "      <td>3</td>\n",
       "    </tr>\n",
       "    <tr>\n",
       "      <td>1</td>\n",
       "      <td>0.390647</td>\n",
       "      <td>0.172840</td>\n",
       "      <td>0.226413</td>\n",
       "      <td>0.361846</td>\n",
       "      <td>0.700111</td>\n",
       "      <td>1</td>\n",
       "    </tr>\n",
       "    <tr>\n",
       "      <td>2</td>\n",
       "      <td>0.515198</td>\n",
       "      <td>0.981481</td>\n",
       "      <td>0.834286</td>\n",
       "      <td>0.966908</td>\n",
       "      <td>0.125706</td>\n",
       "      <td>3</td>\n",
       "    </tr>\n",
       "    <tr>\n",
       "      <td>3</td>\n",
       "      <td>0.000000</td>\n",
       "      <td>0.759259</td>\n",
       "      <td>0.864217</td>\n",
       "      <td>0.614779</td>\n",
       "      <td>0.470760</td>\n",
       "      <td>3</td>\n",
       "    </tr>\n",
       "    <tr>\n",
       "      <td>4</td>\n",
       "      <td>0.553356</td>\n",
       "      <td>0.537037</td>\n",
       "      <td>0.388818</td>\n",
       "      <td>0.653897</td>\n",
       "      <td>0.346206</td>\n",
       "      <td>3</td>\n",
       "    </tr>\n",
       "    <tr>\n",
       "      <td>5</td>\n",
       "      <td>0.335585</td>\n",
       "      <td>0.932099</td>\n",
       "      <td>0.827786</td>\n",
       "      <td>0.844197</td>\n",
       "      <td>0.137037</td>\n",
       "      <td>3</td>\n",
       "    </tr>\n",
       "    <tr>\n",
       "      <td>6</td>\n",
       "      <td>0.509845</td>\n",
       "      <td>0.759259</td>\n",
       "      <td>0.615192</td>\n",
       "      <td>0.779390</td>\n",
       "      <td>0.122207</td>\n",
       "      <td>3</td>\n",
       "    </tr>\n",
       "    <tr>\n",
       "      <td>7</td>\n",
       "      <td>0.409852</td>\n",
       "      <td>0.932099</td>\n",
       "      <td>0.805644</td>\n",
       "      <td>0.873839</td>\n",
       "      <td>0.078546</td>\n",
       "      <td>3</td>\n",
       "    </tr>\n",
       "    <tr>\n",
       "      <td>8</td>\n",
       "      <td>0.480221</td>\n",
       "      <td>0.981481</td>\n",
       "      <td>0.839240</td>\n",
       "      <td>0.949833</td>\n",
       "      <td>0.114005</td>\n",
       "      <td>3</td>\n",
       "    </tr>\n",
       "    <tr>\n",
       "      <td>9</td>\n",
       "      <td>1.000000</td>\n",
       "      <td>0.759259</td>\n",
       "      <td>0.717240</td>\n",
       "      <td>1.148145</td>\n",
       "      <td>0.553526</td>\n",
       "      <td>3</td>\n",
       "    </tr>\n",
       "  </tbody>\n",
       "</table>\n",
       "</div>"
      ],
      "text/plain": [
       "      Premi  Kanal_Penjualan   D(O,C1)   D(O,C2)   D(O,C3)  Cluster\n",
       "0  0.430691         0.932099  0.800559  0.883101  0.067921        3\n",
       "1  0.390647         0.172840  0.226413  0.361846  0.700111        1\n",
       "2  0.515198         0.981481  0.834286  0.966908  0.125706        3\n",
       "3  0.000000         0.759259  0.864217  0.614779  0.470760        3\n",
       "4  0.553356         0.537037  0.388818  0.653897  0.346206        3\n",
       "5  0.335585         0.932099  0.827786  0.844197  0.137037        3\n",
       "6  0.509845         0.759259  0.615192  0.779390  0.122207        3\n",
       "7  0.409852         0.932099  0.805644  0.873839  0.078546        3\n",
       "8  0.480221         0.981481  0.839240  0.949833  0.114005        3\n",
       "9  1.000000         0.759259  0.717240  1.148145  0.553526        3"
      ]
     },
     "execution_count": 52,
     "metadata": {},
     "output_type": "execute_result"
    }
   ],
   "source": [
    "df_train3.head(10)"
   ]
  },
  {
   "cell_type": "markdown",
   "metadata": {
    "id": "xeFHRJlUcsV0"
   },
   "source": [
    "Visualisasi Data Cluster dengan Scatter Plot"
   ]
  },
  {
   "cell_type": "code",
   "execution_count": 53,
   "metadata": {
    "colab": {
     "base_uri": "https://localhost:8080/",
     "height": 513
    },
    "id": "AgJYU-O_csV0",
    "outputId": "f2c2149c-fa16-4985-f1e4-018adc9121b6"
   },
   "outputs": [
    {
     "data": {
      "image/png": "[encoded data removed]",
      "text/plain": [
       "<Figure size 576x576 with 1 Axes>"
      ]
     },
     "metadata": {
      "needs_background": "light"
     },
     "output_type": "display_data"
    }
   ],
   "source": [
    "visualisasi(df_train3,centroid3,k3)"
   ]
  },
  {
   "cell_type": "markdown",
   "metadata": {
    "id": "6nWVs3bPc69e"
   },
   "source": [
    "### **Evaluasi**"
   ]
  },
  {
   "cell_type": "code",
   "execution_count": 76,
   "metadata": {
    "id": "2wOtXcP71LD2"
   },
   "outputs": [
    {
     "name": "stdout",
     "output_type": "stream",
     "text": [
      "sse dengan k=3:  17928.326484709054\n"
     ]
    }
   ],
   "source": [
    "sse3 = sse(df_train3,k3)\n",
    "print(\"sse dengan k=3: \",sse3)"
   ]
  },
  {
   "cell_type": "markdown",
   "metadata": {
    "id": "UGp32GAW2e7-"
   },
   "source": [
    "## **K=4**"
   ]
  },
  {
   "cell_type": "markdown",
   "metadata": {
    "id": "SRu3mvjFdW1r"
   },
   "source": [
    "### **Clustering**"
   ]
  },
  {
   "cell_type": "code",
   "execution_count": 55,
   "metadata": {
    "id": "8P64CHMk2e7-"
   },
   "outputs": [],
   "source": [
    "k4 = 4\n",
    "df_train4 = copy.deepcopy(df_train)\n",
    "centroid4,cluster4 = clusterisasi(df_train4,k4)\n",
    "df_train4 = inputDOC(df_train4,centroid4,cluster4,k4)"
   ]
  },
  {
   "cell_type": "markdown",
   "metadata": {
    "id": "KWmU6xYPdctK"
   },
   "source": [
    "### **Visualisasi Data** "
   ]
  },
  {
   "cell_type": "markdown",
   "metadata": {
    "id": "Ew2FKT3ZdctL"
   },
   "source": [
    "Melihat 10 Data Teratas"
   ]
  },
  {
   "cell_type": "code",
   "execution_count": 56,
   "metadata": {
    "id": "vOvLpv7SdctL"
   },
   "outputs": [
    {
     "data": {
      "text/html": [
       "<div>\n",
       "<style scoped>\n",
       "    .dataframe tbody tr th:only-of-type {\n",
       "        vertical-align: middle;\n",
       "    }\n",
       "\n",
       "    .dataframe tbody tr th {\n",
       "        vertical-align: top;\n",
       "    }\n",
       "\n",
       "    .dataframe thead th {\n",
       "        text-align: right;\n",
       "    }\n",
       "</style>\n",
       "<table border=\"1\" class=\"dataframe\">\n",
       "  <thead>\n",
       "    <tr style=\"text-align: right;\">\n",
       "      <th></th>\n",
       "      <th>Premi</th>\n",
       "      <th>Kanal_Penjualan</th>\n",
       "      <th>D(O,C1)</th>\n",
       "      <th>D(O,C2)</th>\n",
       "      <th>D(O,C3)</th>\n",
       "      <th>D(O,C4)</th>\n",
       "      <th>Cluster</th>\n",
       "    </tr>\n",
       "  </thead>\n",
       "  <tbody>\n",
       "    <tr>\n",
       "      <td>0</td>\n",
       "      <td>0.430691</td>\n",
       "      <td>0.932099</td>\n",
       "      <td>0.786434</td>\n",
       "      <td>0.429163</td>\n",
       "      <td>0.063610</td>\n",
       "      <td>0.349809</td>\n",
       "      <td>3</td>\n",
       "    </tr>\n",
       "    <tr>\n",
       "      <td>1</td>\n",
       "      <td>0.390647</td>\n",
       "      <td>0.172840</td>\n",
       "      <td>0.126524</td>\n",
       "      <td>0.802763</td>\n",
       "      <td>0.709211</td>\n",
       "      <td>0.765294</td>\n",
       "      <td>1</td>\n",
       "    </tr>\n",
       "    <tr>\n",
       "      <td>2</td>\n",
       "      <td>0.515198</td>\n",
       "      <td>0.981481</td>\n",
       "      <td>0.831270</td>\n",
       "      <td>0.520712</td>\n",
       "      <td>0.115069</td>\n",
       "      <td>0.290154</td>\n",
       "      <td>3</td>\n",
       "    </tr>\n",
       "    <tr>\n",
       "      <td>3</td>\n",
       "      <td>0.000000</td>\n",
       "      <td>0.759259</td>\n",
       "      <td>0.797684</td>\n",
       "      <td>0.117801</td>\n",
       "      <td>0.479456</td>\n",
       "      <td>0.771915</td>\n",
       "      <td>2</td>\n",
       "    </tr>\n",
       "    <tr>\n",
       "      <td>4</td>\n",
       "      <td>0.553356</td>\n",
       "      <td>0.537037</td>\n",
       "      <td>0.388710</td>\n",
       "      <td>0.645089</td>\n",
       "      <td>0.352550</td>\n",
       "      <td>0.370156</td>\n",
       "      <td>3</td>\n",
       "    </tr>\n",
       "    <tr>\n",
       "      <td>5</td>\n",
       "      <td>0.335585</td>\n",
       "      <td>0.932099</td>\n",
       "      <td>0.802238</td>\n",
       "      <td>0.335068</td>\n",
       "      <td>0.139701</td>\n",
       "      <td>0.442195</td>\n",
       "      <td>3</td>\n",
       "    </tr>\n",
       "    <tr>\n",
       "      <td>6</td>\n",
       "      <td>0.509845</td>\n",
       "      <td>0.759259</td>\n",
       "      <td>0.609071</td>\n",
       "      <td>0.518297</td>\n",
       "      <td>0.127300</td>\n",
       "      <td>0.269933</td>\n",
       "      <td>3</td>\n",
       "    </tr>\n",
       "    <tr>\n",
       "      <td>7</td>\n",
       "      <td>0.409852</td>\n",
       "      <td>0.932099</td>\n",
       "      <td>0.788944</td>\n",
       "      <td>0.408505</td>\n",
       "      <td>0.076735</td>\n",
       "      <td>0.369934</td>\n",
       "      <td>3</td>\n",
       "    </tr>\n",
       "    <tr>\n",
       "      <td>8</td>\n",
       "      <td>0.480221</td>\n",
       "      <td>0.981481</td>\n",
       "      <td>0.832003</td>\n",
       "      <td>0.486497</td>\n",
       "      <td>0.104478</td>\n",
       "      <td>0.321068</td>\n",
       "      <td>3</td>\n",
       "    </tr>\n",
       "    <tr>\n",
       "      <td>9</td>\n",
       "      <td>1.000000</td>\n",
       "      <td>0.759259</td>\n",
       "      <td>0.778484</td>\n",
       "      <td>1.001850</td>\n",
       "      <td>0.548580</td>\n",
       "      <td>0.245414</td>\n",
       "      <td>4</td>\n",
       "    </tr>\n",
       "  </tbody>\n",
       "</table>\n",
       "</div>"
      ],
      "text/plain": [
       "      Premi  Kanal_Penjualan   D(O,C1)   D(O,C2)   D(O,C3)   D(O,C4)  Cluster\n",
       "0  0.430691         0.932099  0.786434  0.429163  0.063610  0.349809        3\n",
       "1  0.390647         0.172840  0.126524  0.802763  0.709211  0.765294        1\n",
       "2  0.515198         0.981481  0.831270  0.520712  0.115069  0.290154        3\n",
       "3  0.000000         0.759259  0.797684  0.117801  0.479456  0.771915        2\n",
       "4  0.553356         0.537037  0.388710  0.645089  0.352550  0.370156        3\n",
       "5  0.335585         0.932099  0.802238  0.335068  0.139701  0.442195        3\n",
       "6  0.509845         0.759259  0.609071  0.518297  0.127300  0.269933        3\n",
       "7  0.409852         0.932099  0.788944  0.408505  0.076735  0.369934        3\n",
       "8  0.480221         0.981481  0.832003  0.486497  0.104478  0.321068        3\n",
       "9  1.000000         0.759259  0.778484  1.001850  0.548580  0.245414        4"
      ]
     },
     "execution_count": 56,
     "metadata": {},
     "output_type": "execute_result"
    }
   ],
   "source": [
    "df_train4.head(10)"
   ]
  },
  {
   "cell_type": "markdown",
   "metadata": {
    "id": "O88qtby9dctL"
   },
   "source": [
    "Visualisasi Data Cluster dengan Scatter Plot"
   ]
  },
  {
   "cell_type": "code",
   "execution_count": 57,
   "metadata": {
    "id": "DIXcxG0xdctL"
   },
   "outputs": [
    {
     "data": {
      "image/png": "[encoded data removed]",
      "text/plain": [
       "<Figure size 576x576 with 1 Axes>"
      ]
     },
     "metadata": {
      "needs_background": "light"
     },
     "output_type": "display_data"
    }
   ],
   "source": [
    "visualisasi(df_train4,centroid4,k4)"
   ]
  },
  {
   "cell_type": "markdown",
   "metadata": {
    "id": "zo0YeIB9diuS"
   },
   "source": [
    "### **Evaluasi**"
   ]
  },
  {
   "cell_type": "markdown",
   "metadata": {
    "id": "gd-M0W5Zds_D"
   },
   "source": [
    "SSE"
   ]
  },
  {
   "cell_type": "code",
   "execution_count": 77,
   "metadata": {
    "id": "r_E2Y7wu2e7-"
   },
   "outputs": [
    {
     "name": "stdout",
     "output_type": "stream",
     "text": [
      "sse dengan k=4:  9464.911483747468\n"
     ]
    }
   ],
   "source": [
    "sse4 = sse(df_train4,k4)\n",
    "print(\"sse dengan k=4: \",sse4)"
   ]
  },
  {
   "cell_type": "markdown",
   "metadata": {
    "id": "SsK_pR55dvAN"
   },
   "source": [
    "Elbow Method"
   ]
  },
  {
   "cell_type": "markdown",
   "metadata": {
    "id": "wByeyRuD2_km"
   },
   "source": [
    "## **K=5**"
   ]
  },
  {
   "cell_type": "markdown",
   "metadata": {
    "id": "vUP3tfWqeAH5"
   },
   "source": [
    "### **Clustering**"
   ]
  },
  {
   "cell_type": "code",
   "execution_count": 59,
   "metadata": {
    "id": "mkRp46Yo2_kn"
   },
   "outputs": [],
   "source": [
    "k5 = 5\n",
    "df_train5 = copy.deepcopy(df_train)\n",
    "centroid5,cluster5 = clusterisasi(df_train5,k5)\n",
    "df_train5 = inputDOC(df_train5,centroid5,cluster5,k5)"
   ]
  },
  {
   "cell_type": "markdown",
   "metadata": {
    "id": "b1O_ZCwZeUT-"
   },
   "source": [
    "### **Visualisasi Data** "
   ]
  },
  {
   "cell_type": "markdown",
   "metadata": {
    "id": "4dxtQl7BeUT_"
   },
   "source": [
    "Melihat 10 Data Teratas"
   ]
  },
  {
   "cell_type": "code",
   "execution_count": 60,
   "metadata": {
    "id": "WofijZA2eUT_"
   },
   "outputs": [
    {
     "data": {
      "text/html": [
       "<div>\n",
       "<style scoped>\n",
       "    .dataframe tbody tr th:only-of-type {\n",
       "        vertical-align: middle;\n",
       "    }\n",
       "\n",
       "    .dataframe tbody tr th {\n",
       "        vertical-align: top;\n",
       "    }\n",
       "\n",
       "    .dataframe thead th {\n",
       "        text-align: right;\n",
       "    }\n",
       "</style>\n",
       "<table border=\"1\" class=\"dataframe\">\n",
       "  <thead>\n",
       "    <tr style=\"text-align: right;\">\n",
       "      <th></th>\n",
       "      <th>Premi</th>\n",
       "      <th>Kanal_Penjualan</th>\n",
       "      <th>D(O,C1)</th>\n",
       "      <th>D(O,C2)</th>\n",
       "      <th>D(O,C3)</th>\n",
       "      <th>D(O,C4)</th>\n",
       "      <th>D(O,C5)</th>\n",
       "      <th>Cluster</th>\n",
       "    </tr>\n",
       "  </thead>\n",
       "  <tbody>\n",
       "    <tr>\n",
       "      <td>0</td>\n",
       "      <td>0.430691</td>\n",
       "      <td>0.932099</td>\n",
       "      <td>0.200882</td>\n",
       "      <td>0.380505</td>\n",
       "      <td>0.037201</td>\n",
       "      <td>0.429578</td>\n",
       "      <td>0.786564</td>\n",
       "      <td>3</td>\n",
       "    </tr>\n",
       "    <tr>\n",
       "      <td>1</td>\n",
       "      <td>0.390647</td>\n",
       "      <td>0.172840</td>\n",
       "      <td>0.578531</td>\n",
       "      <td>0.791605</td>\n",
       "      <td>0.770455</td>\n",
       "      <td>0.802977</td>\n",
       "      <td>0.126521</td>\n",
       "      <td>5</td>\n",
       "    </tr>\n",
       "    <tr>\n",
       "      <td>2</td>\n",
       "      <td>0.515198</td>\n",
       "      <td>0.981481</td>\n",
       "      <td>0.240468</td>\n",
       "      <td>0.315900</td>\n",
       "      <td>0.063813</td>\n",
       "      <td>0.521121</td>\n",
       "      <td>0.831404</td>\n",
       "      <td>3</td>\n",
       "    </tr>\n",
       "    <tr>\n",
       "      <td>3</td>\n",
       "      <td>0.000000</td>\n",
       "      <td>0.759259</td>\n",
       "      <td>0.495484</td>\n",
       "      <td>0.807065</td>\n",
       "      <td>0.500712</td>\n",
       "      <td>0.117796</td>\n",
       "      <td>0.797769</td>\n",
       "      <td>4</td>\n",
       "    </tr>\n",
       "    <tr>\n",
       "      <td>4</td>\n",
       "      <td>0.553356</td>\n",
       "      <td>0.537037</td>\n",
       "      <td>0.212914</td>\n",
       "      <td>0.399072</td>\n",
       "      <td>0.411579</td>\n",
       "      <td>0.645453</td>\n",
       "      <td>0.388846</td>\n",
       "      <td>1</td>\n",
       "    </tr>\n",
       "    <tr>\n",
       "      <td>5</td>\n",
       "      <td>0.335585</td>\n",
       "      <td>0.932099</td>\n",
       "      <td>0.248324</td>\n",
       "      <td>0.473777</td>\n",
       "      <td>0.131773</td>\n",
       "      <td>0.335480</td>\n",
       "      <td>0.802362</td>\n",
       "      <td>3</td>\n",
       "    </tr>\n",
       "    <tr>\n",
       "      <td>6</td>\n",
       "      <td>0.509845</td>\n",
       "      <td>0.759259</td>\n",
       "      <td>0.022765</td>\n",
       "      <td>0.305712</td>\n",
       "      <td>0.185216</td>\n",
       "      <td>0.518710</td>\n",
       "      <td>0.609204</td>\n",
       "      <td>1</td>\n",
       "    </tr>\n",
       "    <tr>\n",
       "      <td>7</td>\n",
       "      <td>0.409852</td>\n",
       "      <td>0.932099</td>\n",
       "      <td>0.208508</td>\n",
       "      <td>0.400869</td>\n",
       "      <td>0.057773</td>\n",
       "      <td>0.408920</td>\n",
       "      <td>0.789072</td>\n",
       "      <td>3</td>\n",
       "    </tr>\n",
       "    <tr>\n",
       "      <td>8</td>\n",
       "      <td>0.480221</td>\n",
       "      <td>0.981481</td>\n",
       "      <td>0.240099</td>\n",
       "      <td>0.347969</td>\n",
       "      <td>0.043981</td>\n",
       "      <td>0.486905</td>\n",
       "      <td>0.832136</td>\n",
       "      <td>3</td>\n",
       "    </tr>\n",
       "    <tr>\n",
       "      <td>9</td>\n",
       "      <td>1.000000</td>\n",
       "      <td>0.759259</td>\n",
       "      <td>0.505122</td>\n",
       "      <td>0.217408</td>\n",
       "      <td>0.562503</td>\n",
       "      <td>1.002269</td>\n",
       "      <td>0.778605</td>\n",
       "      <td>2</td>\n",
       "    </tr>\n",
       "  </tbody>\n",
       "</table>\n",
       "</div>"
      ],
      "text/plain": [
       "      Premi  Kanal_Penjualan   D(O,C1)   D(O,C2)   D(O,C3)   D(O,C4)  \\\n",
       "0  0.430691         0.932099  0.200882  0.380505  0.037201  0.429578   \n",
       "1  0.390647         0.172840  0.578531  0.791605  0.770455  0.802977   \n",
       "2  0.515198         0.981481  0.240468  0.315900  0.063813  0.521121   \n",
       "3  0.000000         0.759259  0.495484  0.807065  0.500712  0.117796   \n",
       "4  0.553356         0.537037  0.212914  0.399072  0.411579  0.645453   \n",
       "5  0.335585         0.932099  0.248324  0.473777  0.131773  0.335480   \n",
       "6  0.509845         0.759259  0.022765  0.305712  0.185216  0.518710   \n",
       "7  0.409852         0.932099  0.208508  0.400869  0.057773  0.408920   \n",
       "8  0.480221         0.981481  0.240099  0.347969  0.043981  0.486905   \n",
       "9  1.000000         0.759259  0.505122  0.217408  0.562503  1.002269   \n",
       "\n",
       "    D(O,C5)  Cluster  \n",
       "0  0.786564        3  \n",
       "1  0.126521        5  \n",
       "2  0.831404        3  \n",
       "3  0.797769        4  \n",
       "4  0.388846        1  \n",
       "5  0.802362        3  \n",
       "6  0.609204        1  \n",
       "7  0.789072        3  \n",
       "8  0.832136        3  \n",
       "9  0.778605        2  "
      ]
     },
     "execution_count": 60,
     "metadata": {},
     "output_type": "execute_result"
    }
   ],
   "source": [
    "df_train5.head(10)"
   ]
  },
  {
   "cell_type": "markdown",
   "metadata": {
    "id": "MIbzDPqfeUT_"
   },
   "source": [
    "Visualisasi Data Cluster dengan Scatter Plot"
   ]
  },
  {
   "cell_type": "code",
   "execution_count": 61,
   "metadata": {
    "id": "Uf0zdDaTeUT_"
   },
   "outputs": [
    {
     "data": {
      "image/png": "[encoded data removed]",
      "text/plain": [
       "<Figure size 576x576 with 1 Axes>"
      ]
     },
     "metadata": {
      "needs_background": "light"
     },
     "output_type": "display_data"
    }
   ],
   "source": [
    "visualisasi(df_train5,centroid5,k5)"
   ]
  },
  {
   "cell_type": "markdown",
   "metadata": {
    "id": "-2gCAffNeY7g"
   },
   "source": [
    "### **Evaluasi**"
   ]
  },
  {
   "cell_type": "markdown",
   "metadata": {
    "id": "LUy5_p2weeDj"
   },
   "source": [
    "SSE"
   ]
  },
  {
   "cell_type": "code",
   "execution_count": 78,
   "metadata": {
    "id": "dGCbwsRw2_kn"
   },
   "outputs": [
    {
     "name": "stdout",
     "output_type": "stream",
     "text": [
      "sse dengan k=5:  8314.5804041597\n"
     ]
    }
   ],
   "source": [
    "sse5 = sse(df_train5,k5)\n",
    "print(\"sse dengan k=5: \",sse5)"
   ]
  },
  {
   "cell_type": "markdown",
   "metadata": {
    "id": "5yj6ToZ6QYVJ"
   },
   "source": [
    "# ELBOW METHOD"
   ]
  },
  {
   "cell_type": "code",
   "execution_count": 69,
   "metadata": {
    "id": "_vq7nndlQeO-"
   },
   "outputs": [
    {
     "data": {
      "image/png": "[encoded data removed]",
      "text/plain": [
       "<Figure size 432x288 with 1 Axes>"
      ]
     },
     "metadata": {
      "needs_background": "light"
     },
     "output_type": "display_data"
    }
   ],
   "source": [
    "elbowMethod(df_train,10)"
   ]
  }
 ],
 "metadata": {
  "colab": {
   "collapsed_sections": [
    "9hcz7lDFFsGX",
    "Q5tgH9lBywXn",
    "wAQm-9o-y86e",
    "2YcOndpUasPE",
    "NyZKNwZya03A",
    "MAW6FQtQbn1M",
    "u66mhWDn1LD2",
    "mUjOJsH9csVz",
    "6nWVs3bPc69e",
    "SRu3mvjFdW1r",
    "KWmU6xYPdctK",
    "zo0YeIB9diuS"
   ],
   "name": "1301190015_CLUSTERING.ipynb",
   "provenance": []
  },
  "kernelspec": {
   "display_name": "Python 3",
   "language": "python",
   "name": "python3"
  },
  "language_info": {
   "codemirror_mode": {
    "name": "ipython",
    "version": 3
   },
   "file_extension": ".py",
   "mimetype": "text/x-python",
   "name": "python",
   "nbconvert_exporter": "python",
   "pygments_lexer": "ipython3",
   "version": "3.7.4"
  }
 },
 "nbformat": 4,
 "nbformat_minor": 1
}
